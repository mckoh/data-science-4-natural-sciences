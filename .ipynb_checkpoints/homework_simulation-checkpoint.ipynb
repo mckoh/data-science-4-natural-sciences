{
 "cells": [
  {
   "cell_type": "markdown",
   "id": "2e8c7c6d",
   "metadata": {},
   "source": [
    "# Data Science for the Natural Sciences"
   ]
  },
  {
   "cell_type": "markdown",
   "id": "5557a55e",
   "metadata": {},
   "source": [
    "## Homework Simulation"
   ]
  },
  {
   "cell_type": "code",
   "execution_count": 2,
   "id": "d4cf8973",
   "metadata": {
    "ExecuteTime": {
     "end_time": "2023-10-08T19:03:18.196815Z",
     "start_time": "2023-10-08T19:03:14.327932Z"
    }
   },
   "outputs": [],
   "source": [
    "from numpy.random import normal\n",
    "from matplotlib import pyplot as plt\n",
    "from numpy.random import choice\n",
    "from numpy import mean, min, max, std"
   ]
  },
  {
   "cell_type": "markdown",
   "id": "da338cc3",
   "metadata": {},
   "source": [
    "### Create two different populatoins of data"
   ]
  },
  {
   "cell_type": "code",
   "execution_count": 7,
   "id": "9ff3387f",
   "metadata": {
    "ExecuteTime": {
     "end_time": "2023-10-08T19:04:25.059693Z",
     "start_time": "2023-10-08T19:04:25.049214Z"
    }
   },
   "outputs": [],
   "source": [
    "population_a = normal(100, 5, 500)\n",
    "population_b = normal(100, 5, 15)"
   ]
  },
  {
   "cell_type": "markdown",
   "id": "82159b5a",
   "metadata": {},
   "source": [
    "### Visualize population data"
   ]
  },
  {
   "cell_type": "code",
   "execution_count": 8,
   "id": "aa520567",
   "metadata": {
    "ExecuteTime": {
     "end_time": "2023-10-08T19:04:26.634861Z",
     "start_time": "2023-10-08T19:04:25.836980Z"
    }
   },
   "outputs": [
    {
     "data": {
      "text/plain": [
       "<function matplotlib.pyplot.show(close=None, block=None)>"
      ]
     },
     "execution_count": 8,
     "metadata": {},
     "output_type": "execute_result"
    },
    {
     "data": {
      "image/png": "[encoded data removed]",
      "text/plain": [
       "<Figure size 864x432 with 2 Axes>"
      ]
     },
     "metadata": {
      "needs_background": "light"
     },
     "output_type": "display_data"
    }
   ],
   "source": [
    "fig, ax = plt.subplots(ncols=2, nrows=1, sharex=True, sharey=False, figsize=(12,6))\n",
    "ax[0].hist(population_a)\n",
    "ax[1].hist(population_b)\n",
    "ax[0].set_title(\"Population A\")\n",
    "ax[1].set_title(\"Population B\")\n",
    "ax[0].set_xlabel(\"range of feature\")\n",
    "ax[1].set_xlabel(\"range of feature\")\n",
    "ax[0].set_ylabel(\"abs. frequency\")\n",
    "plt.show()"
   ]
  },
  {
   "cell_type": "markdown",
   "id": "650277a2",
   "metadata": {},
   "source": [
    "### Draw random samples from populations"
   ]
  },
  {
   "cell_type": "code",
   "execution_count": 51,
   "id": "bdb9934d",
   "metadata": {
    "ExecuteTime": {
     "end_time": "2023-10-07T10:39:48.379491Z",
     "start_time": "2023-10-07T10:39:48.354398Z"
    }
   },
   "outputs": [],
   "source": [
    "def calculate_sample_ranges(polulation, sample_size=5, n_samples=10):\n",
    "    '''Calculates the min-max differences of a sample\n",
    "    \n",
    "    Keyword Arguments:\n",
    "    - population: The population to draw from\n",
    "    - sample_size: The size of each sample (default: 5)\n",
    "    - n_samples: The number of samples to draw (default: 10)\n",
    "    '''\n",
    "    \n",
    "    differences = []\n",
    "    for i in range(n_samples):\n",
    "        sample = choice(polulation, size=sample_size)\n",
    "        differences.append(max(sample) - min(sample))\n",
    "    return differences\n",
    "\n",
    "def aggregate_sample_ranges(*args, **kwargs):\n",
    "    '''Calculates mean and standard deviation of samples'''\n",
    "    \n",
    "    sample_ranges = calculate_sample_ranges(*args, **kwargs)\n",
    "    print(f\"Sample mean = {mean(sample_ranges)}\")\n",
    "    print(f\"Sample std  = {std(sample_ranges, ddof=1)}\")"
   ]
  },
  {
   "cell_type": "code",
   "execution_count": 52,
   "id": "0bd39125",
   "metadata": {
    "ExecuteTime": {
     "end_time": "2023-10-07T10:39:48.516975Z",
     "start_time": "2023-10-07T10:39:48.501216Z"
    }
   },
   "outputs": [
    {
     "name": "stdout",
     "output_type": "stream",
     "text": [
      "Sample mean = 12.1677007867987\n",
      "Sample std  = 3.398306576715227\n"
     ]
    }
   ],
   "source": [
    "aggregate_sample_ranges(population_a, sample_size=5, n_samples=10)"
   ]
  },
  {
   "cell_type": "code",
   "execution_count": 53,
   "id": "2ef1a712",
   "metadata": {
    "ExecuteTime": {
     "end_time": "2023-10-07T10:39:48.650461Z",
     "start_time": "2023-10-07T10:39:48.638266Z"
    }
   },
   "outputs": [
    {
     "name": "stdout",
     "output_type": "stream",
     "text": [
      "Sample mean = 13.01968254627747\n",
      "Sample std  = 2.5369805243489933\n"
     ]
    }
   ],
   "source": [
    "aggregate_sample_ranges(population_b, sample_size=5, n_samples=10)"
   ]
  },
  {
   "cell_type": "markdown",
   "id": "fdcd1e1c",
   "metadata": {},
   "source": [
    "### Discussion\n",
    "\n",
    "We see that the **standard deviation of the B sample is smaller than the standard deviation of sample A**. This suggests that there is less variance in population B although both popluations where created with a standard deviation of 5 units. \n",
    "\n",
    "We can explain this phenomenon by looking at the underlying stochastic process. **The larger the population, the likelyer it is that we see observations with values that are far away from the population mean**. As we are working with a normal distribution, these values are very unlikely to occure. Thus, the min-max range of population a is by stochastic means likelyer to be larger. When we sample from this popoulation, we thus likelier to get large min-max-ranges in the sample."
   ]
  },
  {
   "cell_type": "code",
   "execution_count": null,
   "id": "21d90a73",
   "metadata": {},
   "outputs": [],
   "source": []
  }
 ],
 "metadata": {
  "kernelspec": {
   "display_name": "Python 3 (ipykernel)",
   "language": "python",
   "name": "python3"
  },
  "language_info": {
   "codemirror_mode": {
    "name": "ipython",
    "version": 3
   },
   "file_extension": ".py",
   "mimetype": "text/x-python",
   "name": "python",
   "nbconvert_exporter": "python",
   "pygments_lexer": "ipython3",
   "version": "3.9.9"
  }
 },
 "nbformat": 4,
 "nbformat_minor": 5
}
