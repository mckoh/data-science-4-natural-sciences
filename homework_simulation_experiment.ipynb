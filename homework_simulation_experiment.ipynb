{
 "cells": [
  {
   "cell_type": "markdown",
   "id": "4ba0b29d",
   "metadata": {},
   "source": [
    "# Homework Simulation Experiment"
   ]
  },
  {
   "cell_type": "code",
   "execution_count": 38,
   "id": "09d59fbe",
   "metadata": {
    "ExecuteTime": {
     "end_time": "2023-10-08T19:29:41.181020Z",
     "start_time": "2023-10-08T19:29:41.143790Z"
    }
   },
   "outputs": [],
   "source": [
    "from numpy.random import normal\n",
    "from matplotlib import pyplot as plt\n",
    "from numpy.random import choice\n",
    "from numpy import mean, min, max, std\n",
    "\n",
    "\n",
    "\n",
    "def calculate_sample_ranges(polulation, sample_size, n_samples):\n",
    "\n",
    "    differences = []\n",
    "    for i in range(n_samples):\n",
    "        sample = choice(polulation, size=sample_size)\n",
    "        differences.append(max(sample) - min(sample))\n",
    "    return differences\n",
    "\n",
    "\n",
    "class Simulation:\n",
    "    \n",
    "    def __init__(self, sample_size=5, n_samples=10):\n",
    "        self.population_a = normal(100, 5, 500)\n",
    "        self.population_b = normal(100, 5, 15)\n",
    "        self.s = sample_size\n",
    "        self.n = n_samples\n",
    "        \n",
    "    def plot_populations(self):\n",
    "        fig, ax = plt.subplots(ncols=2, nrows=1, sharex=True, sharey=False, figsize=(12,6))\n",
    "        ax[0].hist(self.population_a)\n",
    "        ax[1].hist(self.population_b)\n",
    "        ax[0].set_title(\"Population A\")\n",
    "        ax[1].set_title(\"Population B\")\n",
    "        ax[0].set_xlabel(\"range of feature\")\n",
    "        ax[1].set_xlabel(\"range of feature\")\n",
    "        ax[0].set_ylabel(\"abs. frequency\")\n",
    "        plt.show()\n",
    "        \n",
    "    def get_results(self):\n",
    "    \n",
    "        sample_ranges_a = calculate_sample_ranges(self.population_a, self.s, self.n)\n",
    "        sample_ranges_b = calculate_sample_ranges(self.population_b, self.s, self.n)\n",
    "        \n",
    "        return mean(sample_ranges_a), std(sample_ranges_a, ddof=1), mean(sample_ranges_b), std(sample_ranges_b, ddof=1)\n",
    "\n",
    "    def print_result(self):\n",
    "        '''Calculates mean and standard deviation of samples'''\n",
    "\n",
    "        a, b, c, d = self.get_results()\n",
    "        \n",
    "        print(f\"Experiment with sample-size={self.s}, n-samples={self.n}\")\n",
    "        print(\"Population A: mean=10, std=5, n=500\")\n",
    "        print(\"Population B: mean=10, std=5, n=15\")\n",
    "        print(\"\\nPOPULATION A\")\n",
    "        print(f\"Sample mean = {a}\")\n",
    "        print(f\"Sample std  = {b}\")\n",
    "        print(\"\\nPOPULATION B\")\n",
    "        print(f\"Sample mean = {c}\")\n",
    "        print(f\"Sample std  = {d}\")"
   ]
  },
  {
   "cell_type": "markdown",
   "id": "0f92b111",
   "metadata": {},
   "source": [
    "## Application\n",
    "\n",
    "I am using the Simultator class to create a first run through. This is mainly intended to test the functionality."
   ]
  },
  {
   "cell_type": "code",
   "execution_count": 54,
   "id": "fb3147e3",
   "metadata": {
    "ExecuteTime": {
     "end_time": "2023-10-08T19:44:10.661382Z",
     "start_time": "2023-10-08T19:44:10.128141Z"
    }
   },
   "outputs": [
    {
     "data": {
      "image/png": "[encoded data removed]",
      "text/plain": [
       "<Figure size 864x432 with 2 Axes>"
      ]
     },
     "metadata": {
      "needs_background": "light"
     },
     "output_type": "display_data"
    },
    {
     "name": "stdout",
     "output_type": "stream",
     "text": [
      "Experiment with sample-size=5, n-samples=10\n",
      "Population A: mean=10, std=5, n=500\n",
      "Population B: mean=10, std=5, n=15\n",
      "\n",
      "POPULATION A\n",
      "Sample mean = 11.535851585641892\n",
      "Sample std  = 5.781211228902567\n",
      "\n",
      "POPULATION B\n",
      "Sample mean = 10.64389202138142\n",
      "Sample std  = 4.735163719292413\n"
     ]
    }
   ],
   "source": [
    "s = Simulation(sample_size=5, n_samples=10)\n",
    "s.plot_populations()\n",
    "s.print_result()"
   ]
  },
  {
   "cell_type": "markdown",
   "id": "41003665",
   "metadata": {},
   "source": [
    "## Experiment\n",
    "\n",
    "In this little experiment, we are repeating the above simulation 100.000 times. We are counting how many times the standard deviation of sample ranges in A is larger than the one in B and vice versa."
   ]
  },
  {
   "cell_type": "code",
   "execution_count": 55,
   "id": "3b4fa9d0",
   "metadata": {
    "ExecuteTime": {
     "end_time": "2023-10-08T19:46:52.205409Z",
     "start_time": "2023-10-08T19:44:10.858724Z"
    }
   },
   "outputs": [],
   "source": [
    "a_larger_b = 0\n",
    "b_larger_a = 0\n",
    "\n",
    "for _ in range(100000):\n",
    "    s = Simulation(sample_size=5, n_samples=10)\n",
    "    _, a, _, b = s.get_results()\n",
    "    if a > b:\n",
    "        a_larger_b += 1\n",
    "    else:\n",
    "        b_larger_a += 1"
   ]
  },
  {
   "cell_type": "code",
   "execution_count": 56,
   "id": "a8f6b093",
   "metadata": {
    "ExecuteTime": {
     "end_time": "2023-10-08T19:46:52.230414Z",
     "start_time": "2023-10-08T19:46:52.211428Z"
    }
   },
   "outputs": [
    {
     "name": "stdout",
     "output_type": "stream",
     "text": [
      "Number of Simulation where std in A is larger than B = 61232\n",
      "Number of Simulation where std in B is larger than A = 38768\n"
     ]
    }
   ],
   "source": [
    "print(f\"Number of Simulation where std in A is larger than B = {a_larger_b}\")\n",
    "print(f\"Number of Simulation where std in B is larger than A = {b_larger_a}\")"
   ]
  },
  {
   "cell_type": "markdown",
   "id": "5b6dbfb3",
   "metadata": {},
   "source": [
    "We can see that in the majority of Simulations, the standard deviation of sample ranges is larger in A than in B."
   ]
  }
 ],
 "metadata": {
  "kernelspec": {
   "display_name": "Python 3 (ipykernel)",
   "language": "python",
   "name": "python3"
  },
  "language_info": {
   "codemirror_mode": {
    "name": "ipython",
    "version": 3
   },
   "file_extension": ".py",
   "mimetype": "text/x-python",
   "name": "python",
   "nbconvert_exporter": "python",
   "pygments_lexer": "ipython3",
   "version": "3.9.9"
  }
 },
 "nbformat": 4,
 "nbformat_minor": 5
}
